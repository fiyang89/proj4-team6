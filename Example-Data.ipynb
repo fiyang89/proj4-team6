{
 "cells": [
  {
   "cell_type": "code",
   "execution_count": 1,
   "id": "a6ca04dc",
   "metadata": {},
   "outputs": [],
   "source": [
    "import pandas as pd\n",
    "import findspark\n",
    "findspark.init()"
   ]
  },
  {
   "cell_type": "code",
   "execution_count": 2,
   "id": "a5ca1859",
   "metadata": {},
   "outputs": [
    {
     "name": "stderr",
     "output_type": "stream",
     "text": [
      "Setting default log level to \"WARN\".\n",
      "To adjust logging level use sc.setLogLevel(newLevel). For SparkR, use setLogLevel(newLevel).\n"
     ]
    },
    {
     "name": "stdout",
     "output_type": "stream",
     "text": [
      "23/05/31 19:52:23 WARN NativeCodeLoader: Unable to load native-hadoop library for your platform... using builtin-java classes where applicable\n"
     ]
    }
   ],
   "source": [
    "# Start Spark session\n",
    "from pyspark.sql import SparkSession\n",
    "spark = SparkSession.builder.appName(\"Project-4\").getOrCreate()"
   ]
  },
  {
   "cell_type": "code",
   "execution_count": 8,
   "id": "1e264ced",
   "metadata": {},
   "outputs": [
    {
     "name": "stdout",
     "output_type": "stream",
     "text": [
      "+-----+------+---+------------+-------------+------------+-------------+--------------+-----------------+----+---------------+------+\n",
      "|id   |gender|age|hypertension|heart_disease|ever_married|work_type    |Residence_type|avg_glucose_level|bmi |smoking_status |stroke|\n",
      "+-----+------+---+------------+-------------+------------+-------------+--------------+-----------------+----+---------------+------+\n",
      "|9046 |Male  |67 |0           |1            |Yes         |Private      |Urban         |228.69           |36.6|formerly smoked|1     |\n",
      "|51676|Female|61 |0           |0            |Yes         |Self-employed|Rural         |202.21           |N/A |never smoked   |1     |\n",
      "|31112|Male  |80 |0           |1            |Yes         |Private      |Rural         |105.92           |32.5|never smoked   |1     |\n",
      "|60182|Female|49 |0           |0            |Yes         |Private      |Urban         |171.23           |34.4|smokes         |1     |\n",
      "|1665 |Female|79 |1           |0            |Yes         |Self-employed|Rural         |174.12           |24  |never smoked   |1     |\n",
      "|56669|Male  |81 |0           |0            |Yes         |Private      |Urban         |186.21           |29  |formerly smoked|1     |\n",
      "|53882|Male  |74 |1           |1            |Yes         |Private      |Rural         |70.09            |27.4|never smoked   |1     |\n",
      "|10434|Female|69 |0           |0            |No          |Private      |Urban         |94.39            |22.8|never smoked   |1     |\n",
      "|27419|Female|59 |0           |0            |Yes         |Private      |Rural         |76.15            |N/A |Unknown        |1     |\n",
      "|60491|Female|78 |0           |0            |Yes         |Private      |Urban         |58.57            |24.2|Unknown        |1     |\n",
      "|12109|Female|81 |1           |0            |Yes         |Private      |Rural         |80.43            |29.7|never smoked   |1     |\n",
      "|12095|Female|61 |0           |1            |Yes         |Govt_job     |Rural         |120.46           |36.8|smokes         |1     |\n",
      "|12175|Female|54 |0           |0            |Yes         |Private      |Urban         |104.51           |27.3|smokes         |1     |\n",
      "|8213 |Male  |78 |0           |1            |Yes         |Private      |Urban         |219.84           |N/A |Unknown        |1     |\n",
      "|5317 |Female|79 |0           |1            |Yes         |Private      |Urban         |214.09           |28.2|never smoked   |1     |\n",
      "|58202|Female|50 |1           |0            |Yes         |Self-employed|Rural         |167.41           |30.9|never smoked   |1     |\n",
      "|56112|Male  |64 |0           |1            |Yes         |Private      |Urban         |191.61           |37.5|smokes         |1     |\n",
      "|34120|Male  |75 |1           |0            |Yes         |Private      |Urban         |221.29           |25.8|smokes         |1     |\n",
      "|27458|Female|60 |0           |0            |No          |Private      |Urban         |89.22            |37.8|never smoked   |1     |\n",
      "|25226|Male  |57 |0           |1            |No          |Govt_job     |Urban         |217.08           |N/A |Unknown        |1     |\n",
      "+-----+------+---+------------+-------------+------------+-------------+--------------+-----------------+----+---------------+------+\n",
      "only showing top 20 rows\n",
      "\n"
     ]
    }
   ],
   "source": [
    "# Loading CSV from local to Spark DataFrame\n",
    "df= spark.read.format(\"csv\").option(\"header\",\"true\").load(\"healthcare-dataset-stroke-data.csv\")\n",
    "\n",
    "df.show(truncate=False)"
   ]
  },
  {
   "cell_type": "code",
   "execution_count": 11,
   "id": "2ad19ccb",
   "metadata": {},
   "outputs": [
    {
     "data": {
      "text/plain": [
       "5110"
      ]
     },
     "execution_count": 11,
     "metadata": {},
     "output_type": "execute_result"
    }
   ],
   "source": [
    "df.count()"
   ]
  },
  {
   "cell_type": "code",
   "execution_count": null,
   "id": "7147e083",
   "metadata": {},
   "outputs": [],
   "source": []
  }
 ],
 "metadata": {
  "kernelspec": {
   "display_name": "Python 3 (ipykernel)",
   "language": "python",
   "name": "python3"
  },
  "language_info": {
   "codemirror_mode": {
    "name": "ipython",
    "version": 3
   },
   "file_extension": ".py",
   "mimetype": "text/x-python",
   "name": "python",
   "nbconvert_exporter": "python",
   "pygments_lexer": "ipython3",
   "version": "3.10.11"
  }
 },
 "nbformat": 4,
 "nbformat_minor": 5
}
