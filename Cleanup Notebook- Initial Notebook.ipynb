{
 "cells": [
  {
   "cell_type": "code",
   "execution_count": 1,
   "id": "a6ca04dc",
   "metadata": {},
   "outputs": [],
   "source": [
    "import pandas as pd\n",
    "import findspark\n",
    "findspark.init()\n",
    "from pyspark.sql.functions import regexp_replace\n",
    "from pyspark.sql.types import IntegerType\n",
    "from pyspark.sql.functions import col\n",
    "from pyspark.sql.types import DoubleType"
   ]
  },
  {
   "cell_type": "code",
   "execution_count": 2,
   "id": "a5ca1859",
   "metadata": {},
   "outputs": [
    {
     "name": "stderr",
     "output_type": "stream",
     "text": [
      "Setting default log level to \"WARN\".\n",
      "To adjust logging level use sc.setLogLevel(newLevel). For SparkR, use setLogLevel(newLevel).\n"
     ]
    },
    {
     "name": "stdout",
     "output_type": "stream",
     "text": [
      "23/06/07 19:15:22 WARN NativeCodeLoader: Unable to load native-hadoop library for your platform... using builtin-java classes where applicable\n"
     ]
    }
   ],
   "source": [
    "# Start Spark session\n",
    "from pyspark.sql import SparkSession\n",
    "spark = SparkSession.builder.appName(\"Project-4\").getOrCreate()"
   ]
  },
  {
   "cell_type": "code",
   "execution_count": 3,
   "id": "1e264ced",
   "metadata": {},
   "outputs": [
    {
     "name": "stdout",
     "output_type": "stream",
     "text": [
      "+-----+------+----+------------+-------------+------------+-------------+--------------+-----------------+----+---------------+------+\n",
      "|id   |gender|age |hypertension|heart_disease|ever_married|work_type    |Residence_type|avg_glucose_level|bmi |smoking_status |stroke|\n",
      "+-----+------+----+------------+-------------+------------+-------------+--------------+-----------------+----+---------------+------+\n",
      "|9046 |Male  |67.0|0           |1            |Yes         |Private      |Urban         |228.69           |36.6|formerly smoked|1     |\n",
      "|51676|Female|61.0|0           |0            |Yes         |Self-employed|Rural         |202.21           |N/A |never smoked   |1     |\n",
      "|31112|Male  |80.0|0           |1            |Yes         |Private      |Rural         |105.92           |32.5|never smoked   |1     |\n",
      "|60182|Female|49.0|0           |0            |Yes         |Private      |Urban         |171.23           |34.4|smokes         |1     |\n",
      "|1665 |Female|79.0|1           |0            |Yes         |Self-employed|Rural         |174.12           |24  |never smoked   |1     |\n",
      "|56669|Male  |81.0|0           |0            |Yes         |Private      |Urban         |186.21           |29  |formerly smoked|1     |\n",
      "|53882|Male  |74.0|1           |1            |Yes         |Private      |Rural         |70.09            |27.4|never smoked   |1     |\n",
      "|10434|Female|69.0|0           |0            |No          |Private      |Urban         |94.39            |22.8|never smoked   |1     |\n",
      "|27419|Female|59.0|0           |0            |Yes         |Private      |Rural         |76.15            |N/A |Unknown        |1     |\n",
      "|60491|Female|78.0|0           |0            |Yes         |Private      |Urban         |58.57            |24.2|Unknown        |1     |\n",
      "|12109|Female|81.0|1           |0            |Yes         |Private      |Rural         |80.43            |29.7|never smoked   |1     |\n",
      "|12095|Female|61.0|0           |1            |Yes         |Govt_job     |Rural         |120.46           |36.8|smokes         |1     |\n",
      "|12175|Female|54.0|0           |0            |Yes         |Private      |Urban         |104.51           |27.3|smokes         |1     |\n",
      "|8213 |Male  |78.0|0           |1            |Yes         |Private      |Urban         |219.84           |N/A |Unknown        |1     |\n",
      "|5317 |Female|79.0|0           |1            |Yes         |Private      |Urban         |214.09           |28.2|never smoked   |1     |\n",
      "|58202|Female|50.0|1           |0            |Yes         |Self-employed|Rural         |167.41           |30.9|never smoked   |1     |\n",
      "|56112|Male  |64.0|0           |1            |Yes         |Private      |Urban         |191.61           |37.5|smokes         |1     |\n",
      "|34120|Male  |75.0|1           |0            |Yes         |Private      |Urban         |221.29           |25.8|smokes         |1     |\n",
      "|27458|Female|60.0|0           |0            |No          |Private      |Urban         |89.22            |37.8|never smoked   |1     |\n",
      "|25226|Male  |57.0|0           |1            |No          |Govt_job     |Urban         |217.08           |N/A |Unknown        |1     |\n",
      "+-----+------+----+------------+-------------+------------+-------------+--------------+-----------------+----+---------------+------+\n",
      "only showing top 20 rows\n",
      "\n"
     ]
    }
   ],
   "source": [
    "# Loading CSV from local to Spark DataFrame\n",
    "df= spark.read.options(inferSchema=\"True\",delimiter=\",\",header=True).csv(\"healthcare-dataset-stroke-data.csv\")\n",
    "\n",
    "df.show(truncate=False)"
   ]
  },
  {
   "cell_type": "code",
   "execution_count": 4,
   "id": "2ad19ccb",
   "metadata": {},
   "outputs": [
    {
     "data": {
      "text/plain": [
       "5110"
      ]
     },
     "execution_count": 4,
     "metadata": {},
     "output_type": "execute_result"
    }
   ],
   "source": [
    "df.count()"
   ]
  },
  {
   "cell_type": "code",
   "execution_count": 5,
   "id": "0d4b9fd5",
   "metadata": {},
   "outputs": [
    {
     "data": {
      "text/plain": [
       "['id',\n",
       " 'gender',\n",
       " 'age',\n",
       " 'hypertension',\n",
       " 'heart_disease',\n",
       " 'ever_married',\n",
       " 'work_type',\n",
       " 'Residence_type',\n",
       " 'avg_glucose_level',\n",
       " 'bmi',\n",
       " 'smoking_status',\n",
       " 'stroke']"
      ]
     },
     "execution_count": 5,
     "metadata": {},
     "output_type": "execute_result"
    }
   ],
   "source": [
    "df.columns"
   ]
  },
  {
   "cell_type": "code",
   "execution_count": 6,
   "id": "9c9ec3ce",
   "metadata": {},
   "outputs": [
    {
     "name": "stdout",
     "output_type": "stream",
     "text": [
      "root\n",
      " |-- id: integer (nullable = true)\n",
      " |-- gender: string (nullable = true)\n",
      " |-- age: double (nullable = true)\n",
      " |-- hypertension: integer (nullable = true)\n",
      " |-- heart_disease: integer (nullable = true)\n",
      " |-- ever_married: string (nullable = true)\n",
      " |-- work_type: string (nullable = true)\n",
      " |-- Residence_type: string (nullable = true)\n",
      " |-- avg_glucose_level: double (nullable = true)\n",
      " |-- bmi: string (nullable = true)\n",
      " |-- smoking_status: string (nullable = true)\n",
      " |-- stroke: integer (nullable = true)\n",
      "\n"
     ]
    }
   ],
   "source": [
    "df.printSchema()"
   ]
  },
  {
   "cell_type": "code",
   "execution_count": 7,
   "id": "9859d4ae",
   "metadata": {
    "scrolled": true
   },
   "outputs": [
    {
     "name": "stdout",
     "output_type": "stream",
     "text": [
      "+-----+------+----+------------+-------------+------------+-------------+--------------+-----------------+-----+---------------+------+\n",
      "|   id|gender| age|hypertension|heart_disease|ever_married|    work_type|Residence_type|avg_glucose_level|  bmi| smoking_status|stroke|\n",
      "+-----+------+----+------------+-------------+------------+-------------+--------------+-----------------+-----+---------------+------+\n",
      "| 9046|  Male|67.0|           0|            1|         Yes|      Private|         Urban|           228.69| 36.6|formerly smoked|     1|\n",
      "|51676|Female|61.0|           0|            0|         Yes|Self-employed|         Rural|           202.21|28.89|   never smoked|     1|\n",
      "|31112|  Male|80.0|           0|            1|         Yes|      Private|         Rural|           105.92| 32.5|   never smoked|     1|\n",
      "|60182|Female|49.0|           0|            0|         Yes|      Private|         Urban|           171.23| 34.4|         smokes|     1|\n",
      "| 1665|Female|79.0|           1|            0|         Yes|Self-employed|         Rural|           174.12| 24.0|   never smoked|     1|\n",
      "|56669|  Male|81.0|           0|            0|         Yes|      Private|         Urban|           186.21| 29.0|formerly smoked|     1|\n",
      "|53882|  Male|74.0|           1|            1|         Yes|      Private|         Rural|            70.09| 27.4|   never smoked|     1|\n",
      "|10434|Female|69.0|           0|            0|          No|      Private|         Urban|            94.39| 22.8|   never smoked|     1|\n",
      "|27419|Female|59.0|           0|            0|         Yes|      Private|         Rural|            76.15|28.89|        Unknown|     1|\n",
      "|60491|Female|78.0|           0|            0|         Yes|      Private|         Urban|            58.57| 24.2|        Unknown|     1|\n",
      "|12109|Female|81.0|           1|            0|         Yes|      Private|         Rural|            80.43| 29.7|   never smoked|     1|\n",
      "|12095|Female|61.0|           0|            1|         Yes|     Govt_job|         Rural|           120.46| 36.8|         smokes|     1|\n",
      "|12175|Female|54.0|           0|            0|         Yes|      Private|         Urban|           104.51| 27.3|         smokes|     1|\n",
      "| 8213|  Male|78.0|           0|            1|         Yes|      Private|         Urban|           219.84|28.89|        Unknown|     1|\n",
      "| 5317|Female|79.0|           0|            1|         Yes|      Private|         Urban|           214.09| 28.2|   never smoked|     1|\n",
      "|58202|Female|50.0|           1|            0|         Yes|Self-employed|         Rural|           167.41| 30.9|   never smoked|     1|\n",
      "|56112|  Male|64.0|           0|            1|         Yes|      Private|         Urban|           191.61| 37.5|         smokes|     1|\n",
      "|34120|  Male|75.0|           1|            0|         Yes|      Private|         Urban|           221.29| 25.8|         smokes|     1|\n",
      "|27458|Female|60.0|           0|            0|          No|      Private|         Urban|            89.22| 37.8|   never smoked|     1|\n",
      "|25226|  Male|57.0|           0|            1|          No|     Govt_job|         Urban|           217.08|28.89|        Unknown|     1|\n",
      "+-----+------+----+------------+-------------+------------+-------------+--------------+-----------------+-----+---------------+------+\n",
      "only showing top 20 rows\n",
      "\n"
     ]
    }
   ],
   "source": [
    "df = df.withColumn(\"bmi\", col(\"bmi\").cast(DoubleType()))\n",
    "df2 = df.na.fill(value=28.89, subset=[\"bmi\"])\n",
    "df2.show()"
   ]
  },
  {
   "cell_type": "code",
   "execution_count": 8,
   "id": "61fae594",
   "metadata": {},
   "outputs": [
    {
     "data": {
      "text/plain": [
       "['id',\n",
       " 'gender',\n",
       " 'age',\n",
       " 'hypertension',\n",
       " 'heart_disease',\n",
       " 'ever_married',\n",
       " 'work_type',\n",
       " 'Residence_type',\n",
       " 'avg_glucose_level',\n",
       " 'bmi',\n",
       " 'smoking_status',\n",
       " 'stroke']"
      ]
     },
     "execution_count": 8,
     "metadata": {},
     "output_type": "execute_result"
    }
   ],
   "source": [
    "df2.columns"
   ]
  },
  {
   "cell_type": "code",
   "execution_count": 9,
   "id": "6a997a16",
   "metadata": {},
   "outputs": [],
   "source": [
    "df2= df2.filter(df.gender!=\"Other\")"
   ]
  },
  {
   "cell_type": "code",
   "execution_count": 10,
   "id": "e960ab6a",
   "metadata": {},
   "outputs": [
    {
     "name": "stdout",
     "output_type": "stream",
     "text": [
      "+------+----+------------+-------------+------------+-------------+--------------+-----------------+-----+---------------+------+\n",
      "|gender| age|hypertension|heart_disease|ever_married|    work_type|Residence_type|avg_glucose_level|  bmi| smoking_status|stroke|\n",
      "+------+----+------------+-------------+------------+-------------+--------------+-----------------+-----+---------------+------+\n",
      "|  Male|67.0|           0|            1|         Yes|      Private|         Urban|           228.69| 36.6|formerly smoked|     1|\n",
      "|Female|61.0|           0|            0|         Yes|Self-employed|         Rural|           202.21|28.89|   never smoked|     1|\n",
      "|  Male|80.0|           0|            1|         Yes|      Private|         Rural|           105.92| 32.5|   never smoked|     1|\n",
      "|Female|49.0|           0|            0|         Yes|      Private|         Urban|           171.23| 34.4|         smokes|     1|\n",
      "|Female|79.0|           1|            0|         Yes|Self-employed|         Rural|           174.12| 24.0|   never smoked|     1|\n",
      "|  Male|81.0|           0|            0|         Yes|      Private|         Urban|           186.21| 29.0|formerly smoked|     1|\n",
      "|  Male|74.0|           1|            1|         Yes|      Private|         Rural|            70.09| 27.4|   never smoked|     1|\n",
      "|Female|69.0|           0|            0|          No|      Private|         Urban|            94.39| 22.8|   never smoked|     1|\n",
      "|Female|59.0|           0|            0|         Yes|      Private|         Rural|            76.15|28.89|        Unknown|     1|\n",
      "|Female|78.0|           0|            0|         Yes|      Private|         Urban|            58.57| 24.2|        Unknown|     1|\n",
      "|Female|81.0|           1|            0|         Yes|      Private|         Rural|            80.43| 29.7|   never smoked|     1|\n",
      "|Female|61.0|           0|            1|         Yes|     Govt_job|         Rural|           120.46| 36.8|         smokes|     1|\n",
      "|Female|54.0|           0|            0|         Yes|      Private|         Urban|           104.51| 27.3|         smokes|     1|\n",
      "|  Male|78.0|           0|            1|         Yes|      Private|         Urban|           219.84|28.89|        Unknown|     1|\n",
      "|Female|79.0|           0|            1|         Yes|      Private|         Urban|           214.09| 28.2|   never smoked|     1|\n",
      "|Female|50.0|           1|            0|         Yes|Self-employed|         Rural|           167.41| 30.9|   never smoked|     1|\n",
      "|  Male|64.0|           0|            1|         Yes|      Private|         Urban|           191.61| 37.5|         smokes|     1|\n",
      "|  Male|75.0|           1|            0|         Yes|      Private|         Urban|           221.29| 25.8|         smokes|     1|\n",
      "|Female|60.0|           0|            0|          No|      Private|         Urban|            89.22| 37.8|   never smoked|     1|\n",
      "|  Male|57.0|           0|            1|          No|     Govt_job|         Urban|           217.08|28.89|        Unknown|     1|\n",
      "+------+----+------------+-------------+------------+-------------+--------------+-----------------+-----+---------------+------+\n",
      "only showing top 20 rows\n",
      "\n"
     ]
    }
   ],
   "source": [
    "df2 = df2.drop(\"id\")\n",
    "df2.show()"
   ]
  },
  {
   "cell_type": "code",
   "execution_count": 11,
   "id": "9a316b66",
   "metadata": {},
   "outputs": [],
   "source": [
    "df2 = df2.withColumn('work_type', regexp_replace('work_type', 'Never_worked', 'children'))"
   ]
  },
  {
   "cell_type": "code",
   "execution_count": 12,
   "id": "66408082",
   "metadata": {},
   "outputs": [
    {
     "data": {
      "text/plain": [
       "[Row(work_type='Self-employed'),\n",
       " Row(work_type='Private'),\n",
       " Row(work_type='children'),\n",
       " Row(work_type='Govt_job')]"
      ]
     },
     "execution_count": 12,
     "metadata": {},
     "output_type": "execute_result"
    }
   ],
   "source": [
    "df2.select('work_type').distinct().collect()"
   ]
  },
  {
   "cell_type": "code",
   "execution_count": 13,
   "id": "09d0b8eb",
   "metadata": {},
   "outputs": [
    {
     "name": "stdout",
     "output_type": "stream",
     "text": [
      "+------+----+------------+-------------+------------+-------------+--------------+-----------------+-----+---------------+------+\n",
      "|gender| age|hypertension|heart_disease|ever_married|    work_type|Residence_type|avg_glucose_level|  bmi| smoking_status|stroke|\n",
      "+------+----+------------+-------------+------------+-------------+--------------+-----------------+-----+---------------+------+\n",
      "|  Male|67.0|           0|            1|         Yes|      Private|         Urban|           228.69| 36.6|formerly smoked|     1|\n",
      "|Female|61.0|           0|            0|         Yes|Self-employed|         Rural|           202.21|28.89|   never smoked|     1|\n",
      "|  Male|80.0|           0|            1|         Yes|      Private|         Rural|           105.92| 32.5|   never smoked|     1|\n",
      "|Female|49.0|           0|            0|         Yes|      Private|         Urban|           171.23| 34.4|         smokes|     1|\n",
      "|Female|79.0|           1|            0|         Yes|Self-employed|         Rural|           174.12| 24.0|   never smoked|     1|\n",
      "|  Male|81.0|           0|            0|         Yes|      Private|         Urban|           186.21| 29.0|formerly smoked|     1|\n",
      "|  Male|74.0|           1|            1|         Yes|      Private|         Rural|            70.09| 27.4|   never smoked|     1|\n",
      "|Female|69.0|           0|            0|          No|      Private|         Urban|            94.39| 22.8|   never smoked|     1|\n",
      "|Female|59.0|           0|            0|         Yes|      Private|         Rural|            76.15|28.89|        Unknown|     1|\n",
      "|Female|78.0|           0|            0|         Yes|      Private|         Urban|            58.57| 24.2|        Unknown|     1|\n",
      "|Female|81.0|           1|            0|         Yes|      Private|         Rural|            80.43| 29.7|   never smoked|     1|\n",
      "|Female|61.0|           0|            1|         Yes|     Govt_job|         Rural|           120.46| 36.8|         smokes|     1|\n",
      "|Female|54.0|           0|            0|         Yes|      Private|         Urban|           104.51| 27.3|         smokes|     1|\n",
      "|  Male|78.0|           0|            1|         Yes|      Private|         Urban|           219.84|28.89|        Unknown|     1|\n",
      "|Female|79.0|           0|            1|         Yes|      Private|         Urban|           214.09| 28.2|   never smoked|     1|\n",
      "|Female|50.0|           1|            0|         Yes|Self-employed|         Rural|           167.41| 30.9|   never smoked|     1|\n",
      "|  Male|64.0|           0|            1|         Yes|      Private|         Urban|           191.61| 37.5|         smokes|     1|\n",
      "|  Male|75.0|           1|            0|         Yes|      Private|         Urban|           221.29| 25.8|         smokes|     1|\n",
      "|Female|60.0|           0|            0|          No|      Private|         Urban|            89.22| 37.8|   never smoked|     1|\n",
      "|  Male|57.0|           0|            1|          No|     Govt_job|         Urban|           217.08|28.89|        Unknown|     1|\n",
      "+------+----+------------+-------------+------------+-------------+--------------+-----------------+-----+---------------+------+\n",
      "only showing top 20 rows\n",
      "\n"
     ]
    }
   ],
   "source": [
    "df2.show()"
   ]
  },
  {
   "cell_type": "code",
   "execution_count": null,
   "id": "8be9f0f5",
   "metadata": {},
   "outputs": [],
   "source": []
  },
  {
   "cell_type": "code",
   "execution_count": 14,
   "id": "6c8cf2cb",
   "metadata": {},
   "outputs": [],
   "source": [
    "csv_file_path = \"post_clean.csv\"\n",
    "df2.write.option(\"header\", True).option(\"delimiter\",\",\").csv(csv_file_path)"
   ]
  },
  {
   "cell_type": "code",
   "execution_count": 15,
   "id": "0128d37a",
   "metadata": {
    "scrolled": false
   },
   "outputs": [],
   "source": [
    "#df_without_na = df.filter(df.bmi != \"N/A\")\n",
    "#df_without_na.show()\n",
    "#df_without_na.count()"
   ]
  },
  {
   "cell_type": "code",
   "execution_count": 16,
   "id": "af714a1f",
   "metadata": {},
   "outputs": [
    {
     "name": "stdout",
     "output_type": "stream",
     "text": [
      "23/06/07 19:15:41 WARN GarbageCollectionMetrics: To enable non-built-in garbage collector(s) List(G1 Concurrent GC), users should configure it(them) to spark.eventLog.gcMetrics.youngGenerationGarbageCollectors or spark.eventLog.gcMetrics.oldGenerationGarbageCollectors\n"
     ]
    }
   ],
   "source": [
    "#drop_id.write.csv(\"\", header=True)"
   ]
  },
  {
   "cell_type": "code",
   "execution_count": null,
   "id": "965358a6",
   "metadata": {},
   "outputs": [],
   "source": []
  }
 ],
 "metadata": {
  "kernelspec": {
   "display_name": "Python 3 (ipykernel)",
   "language": "python",
   "name": "python3"
  },
  "language_info": {
   "codemirror_mode": {
    "name": "ipython",
    "version": 3
   },
   "file_extension": ".py",
   "mimetype": "text/x-python",
   "name": "python",
   "nbconvert_exporter": "python",
   "pygments_lexer": "ipython3",
   "version": "3.10.11"
  }
 },
 "nbformat": 4,
 "nbformat_minor": 5
}
