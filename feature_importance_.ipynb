{
 "cells": [
  {
   "cell_type": "code",
   "execution_count": 1,
   "metadata": {},
   "outputs": [
    {
     "data": {
      "text/plain": [
       "gender               0\n",
       "age                  0\n",
       "hypertension         0\n",
       "heart_disease        0\n",
       "ever_married         0\n",
       "work_type            0\n",
       "Residence_type       0\n",
       "avg_glucose_level    0\n",
       "bmi                  0\n",
       "smoking_status       0\n",
       "stroke               0\n",
       "dtype: int64"
      ]
     },
     "execution_count": 1,
     "metadata": {},
     "output_type": "execute_result"
    }
   ],
   "source": [
    "import pandas as pd\n",
    "from sklearn.model_selection import train_test_split\n",
    "from sklearn.preprocessing import StandardScaler\n",
    "\n",
    "df = pd.read_csv(\"healthcare-dataset-stroke-data.csv\")\n",
    "df = df.drop(columns = ['id'])\n",
    "\n",
    "df = df.dropna()\n",
    "df.head()\n",
    "df.isna().sum()\n"
   ]
  },
  {
   "cell_type": "code",
   "execution_count": 31,
   "metadata": {},
   "outputs": [],
   "source": [
    "y = df['stroke']\n",
    "\n",
    "label = df.drop(columns = ['stroke'])"
   ]
  },
  {
   "cell_type": "code",
   "execution_count": 24,
   "metadata": {},
   "outputs": [],
   "source": [
    "sc = StandardScaler()\n",
    "scaled = sc.fit_transform(df[[\"age\", \"avg_glucose_level\", 'bmi']])\n",
    "\n",
    "scaled_df = pd.DataFrame(scaled, columns = [\"age\", \"avg_glucose_level\", 'bmi'])\n"
   ]
  },
  {
   "cell_type": "code",
   "execution_count": 25,
   "metadata": {},
   "outputs": [
    {
     "data": {
      "text/html": [
       "<div>\n",
       "<style scoped>\n",
       "    .dataframe tbody tr th:only-of-type {\n",
       "        vertical-align: middle;\n",
       "    }\n",
       "\n",
       "    .dataframe tbody tr th {\n",
       "        vertical-align: top;\n",
       "    }\n",
       "\n",
       "    .dataframe thead th {\n",
       "        text-align: right;\n",
       "    }\n",
       "</style>\n",
       "<table border=\"1\" class=\"dataframe\">\n",
       "  <thead>\n",
       "    <tr style=\"text-align: right;\">\n",
       "      <th></th>\n",
       "      <th>gender_Female</th>\n",
       "      <th>gender_Male</th>\n",
       "      <th>gender_Other</th>\n",
       "      <th>ever_married_No</th>\n",
       "      <th>ever_married_Yes</th>\n",
       "      <th>work_type_Govt_job</th>\n",
       "      <th>work_type_Never_worked</th>\n",
       "      <th>work_type_Private</th>\n",
       "      <th>work_type_Self-employed</th>\n",
       "      <th>work_type_children</th>\n",
       "      <th>Residence_type_Rural</th>\n",
       "      <th>Residence_type_Urban</th>\n",
       "      <th>smoking_status_Unknown</th>\n",
       "      <th>smoking_status_formerly smoked</th>\n",
       "      <th>smoking_status_never smoked</th>\n",
       "      <th>smoking_status_smokes</th>\n",
       "    </tr>\n",
       "  </thead>\n",
       "  <tbody>\n",
       "    <tr>\n",
       "      <th>0</th>\n",
       "      <td>0</td>\n",
       "      <td>1</td>\n",
       "      <td>0</td>\n",
       "      <td>0</td>\n",
       "      <td>1</td>\n",
       "      <td>0</td>\n",
       "      <td>0</td>\n",
       "      <td>1</td>\n",
       "      <td>0</td>\n",
       "      <td>0</td>\n",
       "      <td>0</td>\n",
       "      <td>1</td>\n",
       "      <td>0</td>\n",
       "      <td>1</td>\n",
       "      <td>0</td>\n",
       "      <td>0</td>\n",
       "    </tr>\n",
       "    <tr>\n",
       "      <th>2</th>\n",
       "      <td>0</td>\n",
       "      <td>1</td>\n",
       "      <td>0</td>\n",
       "      <td>0</td>\n",
       "      <td>1</td>\n",
       "      <td>0</td>\n",
       "      <td>0</td>\n",
       "      <td>1</td>\n",
       "      <td>0</td>\n",
       "      <td>0</td>\n",
       "      <td>1</td>\n",
       "      <td>0</td>\n",
       "      <td>0</td>\n",
       "      <td>0</td>\n",
       "      <td>1</td>\n",
       "      <td>0</td>\n",
       "    </tr>\n",
       "    <tr>\n",
       "      <th>3</th>\n",
       "      <td>1</td>\n",
       "      <td>0</td>\n",
       "      <td>0</td>\n",
       "      <td>0</td>\n",
       "      <td>1</td>\n",
       "      <td>0</td>\n",
       "      <td>0</td>\n",
       "      <td>1</td>\n",
       "      <td>0</td>\n",
       "      <td>0</td>\n",
       "      <td>0</td>\n",
       "      <td>1</td>\n",
       "      <td>0</td>\n",
       "      <td>0</td>\n",
       "      <td>0</td>\n",
       "      <td>1</td>\n",
       "    </tr>\n",
       "    <tr>\n",
       "      <th>4</th>\n",
       "      <td>1</td>\n",
       "      <td>0</td>\n",
       "      <td>0</td>\n",
       "      <td>0</td>\n",
       "      <td>1</td>\n",
       "      <td>0</td>\n",
       "      <td>0</td>\n",
       "      <td>0</td>\n",
       "      <td>1</td>\n",
       "      <td>0</td>\n",
       "      <td>1</td>\n",
       "      <td>0</td>\n",
       "      <td>0</td>\n",
       "      <td>0</td>\n",
       "      <td>1</td>\n",
       "      <td>0</td>\n",
       "    </tr>\n",
       "    <tr>\n",
       "      <th>5</th>\n",
       "      <td>0</td>\n",
       "      <td>1</td>\n",
       "      <td>0</td>\n",
       "      <td>0</td>\n",
       "      <td>1</td>\n",
       "      <td>0</td>\n",
       "      <td>0</td>\n",
       "      <td>1</td>\n",
       "      <td>0</td>\n",
       "      <td>0</td>\n",
       "      <td>0</td>\n",
       "      <td>1</td>\n",
       "      <td>0</td>\n",
       "      <td>1</td>\n",
       "      <td>0</td>\n",
       "      <td>0</td>\n",
       "    </tr>\n",
       "  </tbody>\n",
       "</table>\n",
       "</div>"
      ],
      "text/plain": [
       "   gender_Female  gender_Male  gender_Other  ever_married_No  \\\n",
       "0              0            1             0                0   \n",
       "2              0            1             0                0   \n",
       "3              1            0             0                0   \n",
       "4              1            0             0                0   \n",
       "5              0            1             0                0   \n",
       "\n",
       "   ever_married_Yes  work_type_Govt_job  work_type_Never_worked  \\\n",
       "0                 1                   0                       0   \n",
       "2                 1                   0                       0   \n",
       "3                 1                   0                       0   \n",
       "4                 1                   0                       0   \n",
       "5                 1                   0                       0   \n",
       "\n",
       "   work_type_Private  work_type_Self-employed  work_type_children  \\\n",
       "0                  1                        0                   0   \n",
       "2                  1                        0                   0   \n",
       "3                  1                        0                   0   \n",
       "4                  0                        1                   0   \n",
       "5                  1                        0                   0   \n",
       "\n",
       "   Residence_type_Rural  Residence_type_Urban  smoking_status_Unknown  \\\n",
       "0                     0                     1                       0   \n",
       "2                     1                     0                       0   \n",
       "3                     0                     1                       0   \n",
       "4                     1                     0                       0   \n",
       "5                     0                     1                       0   \n",
       "\n",
       "   smoking_status_formerly smoked  smoking_status_never smoked  \\\n",
       "0                               1                            0   \n",
       "2                               0                            1   \n",
       "3                               0                            0   \n",
       "4                               0                            1   \n",
       "5                               1                            0   \n",
       "\n",
       "   smoking_status_smokes  \n",
       "0                      0  \n",
       "2                      0  \n",
       "3                      1  \n",
       "4                      0  \n",
       "5                      0  "
      ]
     },
     "execution_count": 25,
     "metadata": {},
     "output_type": "execute_result"
    }
   ],
   "source": [
    "df_dummies = pd.get_dummies(df[['gender','ever_married', 'work_type', 'Residence_type', 'smoking_status' ]])\n",
    "df_dummies.head()"
   ]
  },
  {
   "cell_type": "code",
   "execution_count": 26,
   "metadata": {},
   "outputs": [
    {
     "data": {
      "text/html": [
       "<div>\n",
       "<style scoped>\n",
       "    .dataframe tbody tr th:only-of-type {\n",
       "        vertical-align: middle;\n",
       "    }\n",
       "\n",
       "    .dataframe tbody tr th {\n",
       "        vertical-align: top;\n",
       "    }\n",
       "\n",
       "    .dataframe thead th {\n",
       "        text-align: right;\n",
       "    }\n",
       "</style>\n",
       "<table border=\"1\" class=\"dataframe\">\n",
       "  <thead>\n",
       "    <tr style=\"text-align: right;\">\n",
       "      <th></th>\n",
       "      <th>hypertension</th>\n",
       "      <th>heart_disease</th>\n",
       "      <th>stroke</th>\n",
       "    </tr>\n",
       "  </thead>\n",
       "  <tbody>\n",
       "    <tr>\n",
       "      <th>0</th>\n",
       "      <td>0</td>\n",
       "      <td>1</td>\n",
       "      <td>1</td>\n",
       "    </tr>\n",
       "    <tr>\n",
       "      <th>2</th>\n",
       "      <td>0</td>\n",
       "      <td>1</td>\n",
       "      <td>1</td>\n",
       "    </tr>\n",
       "    <tr>\n",
       "      <th>3</th>\n",
       "      <td>0</td>\n",
       "      <td>0</td>\n",
       "      <td>1</td>\n",
       "    </tr>\n",
       "    <tr>\n",
       "      <th>4</th>\n",
       "      <td>1</td>\n",
       "      <td>0</td>\n",
       "      <td>1</td>\n",
       "    </tr>\n",
       "    <tr>\n",
       "      <th>5</th>\n",
       "      <td>0</td>\n",
       "      <td>0</td>\n",
       "      <td>1</td>\n",
       "    </tr>\n",
       "  </tbody>\n",
       "</table>\n",
       "</div>"
      ],
      "text/plain": [
       "   hypertension  heart_disease  stroke\n",
       "0             0              1       1\n",
       "2             0              1       1\n",
       "3             0              0       1\n",
       "4             1              0       1\n",
       "5             0              0       1"
      ]
     },
     "execution_count": 26,
     "metadata": {},
     "output_type": "execute_result"
    }
   ],
   "source": [
    "binary_df = df[['hypertension', 'heart_disease', 'stroke']]\n",
    "binary_df.head()"
   ]
  },
  {
   "cell_type": "code",
   "execution_count": 27,
   "metadata": {},
   "outputs": [],
   "source": [
    "combined_df = pd.concat([scaled_df, df_dummies, binary_df], axis = 1)\n",
    "combined_df.head()\n",
    "combined_df = combined_df.dropna()"
   ]
  },
  {
   "cell_type": "code",
   "execution_count": 28,
   "metadata": {},
   "outputs": [],
   "source": [
    "y = combined_df['stroke']\n",
    "\n",
    "\n",
    "X = combined_df.drop(columns = ['stroke'])\n"
   ]
  },
  {
   "cell_type": "code",
   "execution_count": 13,
   "metadata": {},
   "outputs": [
    {
     "data": {
      "text/plain": [
       "(           age  avg_glucose_level       bmi  gender_Female  gender_Male  \\\n",
       " 3346 -0.703476           0.159948  0.612072            1.0          0.0   \n",
       " 1883 -1.102540           0.178633 -0.508481            1.0          0.0   \n",
       " 4882 -0.614796          -0.332850 -0.113741            1.0          0.0   \n",
       " 3228 -1.412922          -0.399937 -0.572149            0.0          1.0   \n",
       " 363   1.557882          -0.790079 -0.521215            1.0          0.0   \n",
       " ...        ...                ...       ...            ...          ...   \n",
       " 3036 -0.836497          -0.381027 -1.119692            0.0          1.0   \n",
       " 2899 -0.880838          -0.000566 -0.228343            0.0          1.0   \n",
       " 962  -1.013859          -0.101197 -0.266543            0.0          1.0   \n",
       " 4157  0.094650          -0.226591  1.439753            1.0          0.0   \n",
       " 275   0.626734          -0.970404  0.268266            1.0          0.0   \n",
       " \n",
       "       gender_Other  ever_married_No  ever_married_Yes  work_type_Govt_job  \\\n",
       " 3346           0.0              0.0               1.0                 0.0   \n",
       " 1883           0.0              0.0               1.0                 0.0   \n",
       " 4882           0.0              0.0               1.0                 0.0   \n",
       " 3228           0.0              0.0               1.0                 0.0   \n",
       " 363            0.0              1.0               0.0                 0.0   \n",
       " ...            ...              ...               ...                 ...   \n",
       " 3036           0.0              0.0               1.0                 0.0   \n",
       " 2899           0.0              0.0               1.0                 0.0   \n",
       " 962            0.0              1.0               0.0                 0.0   \n",
       " 4157           0.0              1.0               0.0                 0.0   \n",
       " 275            0.0              0.0               1.0                 1.0   \n",
       " \n",
       "       work_type_Never_worked  ...  work_type_Self-employed  \\\n",
       " 3346                     0.0  ...                      0.0   \n",
       " 1883                     0.0  ...                      0.0   \n",
       " 4882                     0.0  ...                      0.0   \n",
       " 3228                     0.0  ...                      0.0   \n",
       " 363                      0.0  ...                      0.0   \n",
       " ...                      ...  ...                      ...   \n",
       " 3036                     0.0  ...                      0.0   \n",
       " 2899                     0.0  ...                      0.0   \n",
       " 962                      0.0  ...                      0.0   \n",
       " 4157                     0.0  ...                      0.0   \n",
       " 275                      0.0  ...                      0.0   \n",
       " \n",
       "       work_type_children  Residence_type_Rural  Residence_type_Urban  \\\n",
       " 3346                 0.0                   1.0                   0.0   \n",
       " 1883                 0.0                   0.0                   1.0   \n",
       " 4882                 0.0                   0.0                   1.0   \n",
       " 3228                 0.0                   0.0                   1.0   \n",
       " 363                  1.0                   0.0                   1.0   \n",
       " ...                  ...                   ...                   ...   \n",
       " 3036                 0.0                   0.0                   1.0   \n",
       " 2899                 0.0                   0.0                   1.0   \n",
       " 962                  0.0                   1.0                   0.0   \n",
       " 4157                 1.0                   1.0                   0.0   \n",
       " 275                  0.0                   1.0                   0.0   \n",
       " \n",
       "       smoking_status_Unknown  smoking_status_formerly smoked  \\\n",
       " 3346                     0.0                             0.0   \n",
       " 1883                     0.0                             1.0   \n",
       " 4882                     0.0                             0.0   \n",
       " 3228                     0.0                             1.0   \n",
       " 363                      1.0                             0.0   \n",
       " ...                      ...                             ...   \n",
       " 3036                     1.0                             0.0   \n",
       " 2899                     0.0                             0.0   \n",
       " 962                      1.0                             0.0   \n",
       " 4157                     1.0                             0.0   \n",
       " 275                      0.0                             0.0   \n",
       " \n",
       "       smoking_status_never smoked  smoking_status_smokes  hypertension  \\\n",
       " 3346                          1.0                    0.0           0.0   \n",
       " 1883                          0.0                    0.0           0.0   \n",
       " 4882                          1.0                    0.0           0.0   \n",
       " 3228                          0.0                    0.0           0.0   \n",
       " 363                           0.0                    0.0           0.0   \n",
       " ...                           ...                    ...           ...   \n",
       " 3036                          0.0                    0.0           0.0   \n",
       " 2899                          1.0                    0.0           0.0   \n",
       " 962                           0.0                    0.0           0.0   \n",
       " 4157                          0.0                    0.0           0.0   \n",
       " 275                           0.0                    1.0           0.0   \n",
       " \n",
       "       heart_disease  \n",
       " 3346            0.0  \n",
       " 1883            0.0  \n",
       " 4882            0.0  \n",
       " 3228            0.0  \n",
       " 363             0.0  \n",
       " ...             ...  \n",
       " 3036            0.0  \n",
       " 2899            0.0  \n",
       " 962             0.0  \n",
       " 4157            0.0  \n",
       " 275             0.0  \n",
       " \n",
       " [3537 rows x 21 columns],\n",
       "            age  avg_glucose_level       bmi  gender_Female  gender_Male  \\\n",
       " 3922  1.646563          -1.031412 -0.419346            1.0          0.0   \n",
       " 1124  0.005969          -0.082286  0.140930            0.0          1.0   \n",
       " 1607  0.316352           0.386648  0.892210            0.0          1.0   \n",
       " 2708  0.405033          -0.158379  4.113799            1.0          0.0   \n",
       " 2957  0.272012           0.015418  0.115463            0.0          1.0   \n",
       " ...        ...                ...       ...            ...          ...   \n",
       " 3559  0.892777          -0.609529  0.752141            0.0          1.0   \n",
       " 3569  1.336180          -0.148923 -0.164675            1.0          0.0   \n",
       " 3892 -1.191220          -0.072156 -0.228343            0.0          1.0   \n",
       " 2310 -0.260073          -0.628889 -0.954155            0.0          1.0   \n",
       " 571   0.538054          -0.669637  0.064529            1.0          0.0   \n",
       " \n",
       "       gender_Other  ever_married_No  ever_married_Yes  work_type_Govt_job  \\\n",
       " 3922           0.0              0.0               1.0                 0.0   \n",
       " 1124           0.0              1.0               0.0                 0.0   \n",
       " 1607           0.0              0.0               1.0                 0.0   \n",
       " 2708           0.0              1.0               0.0                 0.0   \n",
       " 2957           0.0              0.0               1.0                 0.0   \n",
       " ...            ...              ...               ...                 ...   \n",
       " 3559           0.0              0.0               1.0                 0.0   \n",
       " 3569           0.0              0.0               1.0                 0.0   \n",
       " 3892           0.0              0.0               1.0                 1.0   \n",
       " 2310           0.0              1.0               0.0                 0.0   \n",
       " 571            0.0              0.0               1.0                 0.0   \n",
       " \n",
       "       work_type_Never_worked  ...  work_type_Self-employed  \\\n",
       " 3922                     0.0  ...                      0.0   \n",
       " 1124                     0.0  ...                      0.0   \n",
       " 1607                     0.0  ...                      0.0   \n",
       " 2708                     0.0  ...                      0.0   \n",
       " 2957                     0.0  ...                      0.0   \n",
       " ...                      ...  ...                      ...   \n",
       " 3559                     0.0  ...                      1.0   \n",
       " 3569                     0.0  ...                      1.0   \n",
       " 3892                     0.0  ...                      0.0   \n",
       " 2310                     0.0  ...                      0.0   \n",
       " 571                      0.0  ...                      1.0   \n",
       " \n",
       "       work_type_children  Residence_type_Rural  Residence_type_Urban  \\\n",
       " 3922                 0.0                   0.0                   1.0   \n",
       " 1124                 1.0                   0.0                   1.0   \n",
       " 1607                 0.0                   0.0                   1.0   \n",
       " 2708                 1.0                   0.0                   1.0   \n",
       " 2957                 0.0                   0.0                   1.0   \n",
       " ...                  ...                   ...                   ...   \n",
       " 3559                 0.0                   0.0                   1.0   \n",
       " 3569                 0.0                   1.0                   0.0   \n",
       " 3892                 0.0                   0.0                   1.0   \n",
       " 2310                 1.0                   1.0                   0.0   \n",
       " 571                  0.0                   0.0                   1.0   \n",
       " \n",
       "       smoking_status_Unknown  smoking_status_formerly smoked  \\\n",
       " 3922                     0.0                             0.0   \n",
       " 1124                     1.0                             0.0   \n",
       " 1607                     1.0                             0.0   \n",
       " 2708                     1.0                             0.0   \n",
       " 2957                     0.0                             0.0   \n",
       " ...                      ...                             ...   \n",
       " 3559                     0.0                             0.0   \n",
       " 3569                     0.0                             0.0   \n",
       " 3892                     1.0                             0.0   \n",
       " 2310                     1.0                             0.0   \n",
       " 571                      0.0                             1.0   \n",
       " \n",
       "       smoking_status_never smoked  smoking_status_smokes  hypertension  \\\n",
       " 3922                          1.0                    0.0           0.0   \n",
       " 1124                          0.0                    0.0           0.0   \n",
       " 1607                          0.0                    0.0           1.0   \n",
       " 2708                          0.0                    0.0           0.0   \n",
       " 2957                          1.0                    0.0           0.0   \n",
       " ...                           ...                    ...           ...   \n",
       " 3559                          1.0                    0.0           0.0   \n",
       " 3569                          1.0                    0.0           0.0   \n",
       " 3892                          0.0                    0.0           0.0   \n",
       " 2310                          0.0                    0.0           0.0   \n",
       " 571                           0.0                    0.0           1.0   \n",
       " \n",
       "       heart_disease  \n",
       " 3922            0.0  \n",
       " 1124            0.0  \n",
       " 1607            0.0  \n",
       " 2708            0.0  \n",
       " 2957            0.0  \n",
       " ...             ...  \n",
       " 3559            0.0  \n",
       " 3569            0.0  \n",
       " 3892            0.0  \n",
       " 2310            0.0  \n",
       " 571             0.0  \n",
       " \n",
       " [1180 rows x 21 columns],\n",
       " 3346    0.0\n",
       " 1883    0.0\n",
       " 4882    0.0\n",
       " 3228    0.0\n",
       " 363     0.0\n",
       "        ... \n",
       " 3036    0.0\n",
       " 2899    0.0\n",
       " 962     0.0\n",
       " 4157    0.0\n",
       " 275     0.0\n",
       " Name: stroke, Length: 3537, dtype: float64,\n",
       " 3922    0.0\n",
       " 1124    0.0\n",
       " 1607    0.0\n",
       " 2708    0.0\n",
       " 2957    0.0\n",
       "        ... \n",
       " 3559    0.0\n",
       " 3569    0.0\n",
       " 3892    0.0\n",
       " 2310    0.0\n",
       " 571     0.0\n",
       " Name: stroke, Length: 1180, dtype: float64)"
      ]
     },
     "execution_count": 13,
     "metadata": {},
     "output_type": "execute_result"
    }
   ],
   "source": [
    "X_train, X_test, y_train, y_test = train_test_split(X, y, random_state = 1)\n",
    "X_train, X_test, y_train, y_test"
   ]
  },
  {
   "cell_type": "code",
   "execution_count": 14,
   "metadata": {},
   "outputs": [],
   "source": [
    "sc = StandardScaler()\n",
    "sc.fit(X_train)\n",
    "X_train_std = sc.transform(X_train)\n",
    "X_test_std = sc.transform(X_test)"
   ]
  },
  {
   "cell_type": "code",
   "execution_count": 15,
   "metadata": {},
   "outputs": [],
   "source": [
    "cols = ['age', 'avg_glucose_level', 'bmi', 'gender_Female', 'gender_Male',\n",
    "       'gender_Other', 'ever_married_No', 'ever_married_Yes',\n",
    "       'work_type_Govt_job', 'work_type_Never_worked', 'work_type_Private',\n",
    "       'work_type_Self-employed', 'work_type_children', 'Residence_type_Rural',\n",
    "       'Residence_type_Urban', 'smoking_status_Unknown',\n",
    "       'smoking_status_formerly smoked', 'smoking_status_never smoked',\n",
    "       'smoking_status_smokes', 'hypertension', 'heart_disease']\n",
    "\n",
    "X_train_std = pd.DataFrame(X_train_std, columns=cols)\n",
    "X_test_std = pd.DataFrame(X_test_std, columns=cols)"
   ]
  },
  {
   "cell_type": "code",
   "execution_count": 16,
   "metadata": {},
   "outputs": [
    {
     "data": {
      "text/html": [
       "<style>#sk-container-id-1 {color: black;background-color: white;}#sk-container-id-1 pre{padding: 0;}#sk-container-id-1 div.sk-toggleable {background-color: white;}#sk-container-id-1 label.sk-toggleable__label {cursor: pointer;display: block;width: 100%;margin-bottom: 0;padding: 0.3em;box-sizing: border-box;text-align: center;}#sk-container-id-1 label.sk-toggleable__label-arrow:before {content: \"▸\";float: left;margin-right: 0.25em;color: #696969;}#sk-container-id-1 label.sk-toggleable__label-arrow:hover:before {color: black;}#sk-container-id-1 div.sk-estimator:hover label.sk-toggleable__label-arrow:before {color: black;}#sk-container-id-1 div.sk-toggleable__content {max-height: 0;max-width: 0;overflow: hidden;text-align: left;background-color: #f0f8ff;}#sk-container-id-1 div.sk-toggleable__content pre {margin: 0.2em;color: black;border-radius: 0.25em;background-color: #f0f8ff;}#sk-container-id-1 input.sk-toggleable__control:checked~div.sk-toggleable__content {max-height: 200px;max-width: 100%;overflow: auto;}#sk-container-id-1 input.sk-toggleable__control:checked~label.sk-toggleable__label-arrow:before {content: \"▾\";}#sk-container-id-1 div.sk-estimator input.sk-toggleable__control:checked~label.sk-toggleable__label {background-color: #d4ebff;}#sk-container-id-1 div.sk-label input.sk-toggleable__control:checked~label.sk-toggleable__label {background-color: #d4ebff;}#sk-container-id-1 input.sk-hidden--visually {border: 0;clip: rect(1px 1px 1px 1px);clip: rect(1px, 1px, 1px, 1px);height: 1px;margin: -1px;overflow: hidden;padding: 0;position: absolute;width: 1px;}#sk-container-id-1 div.sk-estimator {font-family: monospace;background-color: #f0f8ff;border: 1px dotted black;border-radius: 0.25em;box-sizing: border-box;margin-bottom: 0.5em;}#sk-container-id-1 div.sk-estimator:hover {background-color: #d4ebff;}#sk-container-id-1 div.sk-parallel-item::after {content: \"\";width: 100%;border-bottom: 1px solid gray;flex-grow: 1;}#sk-container-id-1 div.sk-label:hover label.sk-toggleable__label {background-color: #d4ebff;}#sk-container-id-1 div.sk-serial::before {content: \"\";position: absolute;border-left: 1px solid gray;box-sizing: border-box;top: 0;bottom: 0;left: 50%;z-index: 0;}#sk-container-id-1 div.sk-serial {display: flex;flex-direction: column;align-items: center;background-color: white;padding-right: 0.2em;padding-left: 0.2em;position: relative;}#sk-container-id-1 div.sk-item {position: relative;z-index: 1;}#sk-container-id-1 div.sk-parallel {display: flex;align-items: stretch;justify-content: center;background-color: white;position: relative;}#sk-container-id-1 div.sk-item::before, #sk-container-id-1 div.sk-parallel-item::before {content: \"\";position: absolute;border-left: 1px solid gray;box-sizing: border-box;top: 0;bottom: 0;left: 50%;z-index: -1;}#sk-container-id-1 div.sk-parallel-item {display: flex;flex-direction: column;z-index: 1;position: relative;background-color: white;}#sk-container-id-1 div.sk-parallel-item:first-child::after {align-self: flex-end;width: 50%;}#sk-container-id-1 div.sk-parallel-item:last-child::after {align-self: flex-start;width: 50%;}#sk-container-id-1 div.sk-parallel-item:only-child::after {width: 0;}#sk-container-id-1 div.sk-dashed-wrapped {border: 1px dashed gray;margin: 0 0.4em 0.5em 0.4em;box-sizing: border-box;padding-bottom: 0.4em;background-color: white;}#sk-container-id-1 div.sk-label label {font-family: monospace;font-weight: bold;display: inline-block;line-height: 1.2em;}#sk-container-id-1 div.sk-label-container {text-align: center;}#sk-container-id-1 div.sk-container {/* jupyter's `normalize.less` sets `[hidden] { display: none; }` but bootstrap.min.css set `[hidden] { display: none !important; }` so we also need the `!important` here to be able to override the default hidden behavior on the sphinx rendered scikit-learn.org. See: https://github.com/scikit-learn/scikit-learn/issues/21755 */display: inline-block !important;position: relative;}#sk-container-id-1 div.sk-text-repr-fallback {display: none;}</style><div id=\"sk-container-id-1\" class=\"sk-top-container\"><div class=\"sk-text-repr-fallback\"><pre>RandomForestClassifier(n_estimators=500, random_state=1)</pre><b>In a Jupyter environment, please rerun this cell to show the HTML representation or trust the notebook. <br />On GitHub, the HTML representation is unable to render, please try loading this page with nbviewer.org.</b></div><div class=\"sk-container\" hidden><div class=\"sk-item\"><div class=\"sk-estimator sk-toggleable\"><input class=\"sk-toggleable__control sk-hidden--visually\" id=\"sk-estimator-id-1\" type=\"checkbox\" checked><label for=\"sk-estimator-id-1\" class=\"sk-toggleable__label sk-toggleable__label-arrow\">RandomForestClassifier</label><div class=\"sk-toggleable__content\"><pre>RandomForestClassifier(n_estimators=500, random_state=1)</pre></div></div></div></div></div>"
      ],
      "text/plain": [
       "RandomForestClassifier(n_estimators=500, random_state=1)"
      ]
     },
     "execution_count": 16,
     "metadata": {},
     "output_type": "execute_result"
    }
   ],
   "source": [
    "from sklearn.ensemble import RandomForestClassifier\n",
    "\n",
    "forest = RandomForestClassifier(n_estimators=500,\n",
    "                                random_state=1)\n",
    "\n",
    "forest.fit(X_train_std, y_train.values.ravel())"
   ]
  },
  {
   "cell_type": "code",
   "execution_count": 22,
   "metadata": {},
   "outputs": [
    {
     "name": "stdout",
     "output_type": "stream",
     "text": [
      " 1) bmi                            0.250953\n",
      " 2) avg_glucose_level              0.242543\n",
      " 3) gender_Female                  0.214768\n",
      " 4) heart_disease                  0.034640\n",
      " 5) stroke                         0.032645\n",
      " 6) work_type_Self-employed        0.021464\n",
      " 7) smoking_status_smokes          0.020268\n",
      " 8) Residence_type_Urban           0.018964\n",
      " 9) gender_Male                    0.018604\n",
      "10) smoking_status_Unknown         0.018461\n",
      "11) gender_Other                   0.018434\n",
      "12) smoking_status_never smoked    0.018161\n",
      "13) work_type_children             0.018093\n",
      "14) hypertension                   0.017595\n",
      "15) work_type_Never_worked         0.015973\n",
      "16) smoking_status_formerly smoked 0.013425\n",
      "17) ever_married_Yes               0.011769\n",
      "18) work_type_Govt_job             0.010821\n",
      "19) Residence_type_Rural           0.002323\n",
      "20) work_type_Private              0.000096\n",
      "21) ever_married_No                0.000001\n"
     ]
    }
   ],
   "source": [
    "import numpy as np\n",
    " \n",
    "importances = forest.feature_importances_\n",
    "#\n",
    "# Sort the feature importance in descending order\n",
    "#\n",
    "sorted_indices = np.argsort(importances)[::-1]\n",
    " \n",
    "feat_labels = combined_df.columns[1:]\n",
    " \n",
    "for f in range(X_train.shape[1]):\n",
    "    print(\"%2d) %-*s %f\" % (f + 1, 30,\n",
    "                            feat_labels[sorted_indices[f]],\n",
    "                            importances[sorted_indices[f]]))\n"
   ]
  },
  {
   "cell_type": "code",
   "execution_count": null,
   "metadata": {},
   "outputs": [],
   "source": []
  },
  {
   "cell_type": "code",
   "execution_count": 14,
   "metadata": {},
   "outputs": [],
   "source": [
    "import numpy as np\n",
    "import pandas as pd\n",
    "from sklearn.model_selection import train_test_split\n",
    "from sklearn.ensemble import RandomForestRegressor\n",
    "from sklearn.inspection import permutation_importance\n",
    "from matplotlib import pyplot as plt\n",
    "\n",
    "plt.rcParams.update({'figure.figsize': (12.0, 8.0)})\n",
    "plt.rcParams.update({'font.size': 14})"
   ]
  },
  {
   "cell_type": "code",
   "execution_count": 15,
   "metadata": {},
   "outputs": [],
   "source": [
    "X_train, X_test, y_train, y_test = train_test_split(X, y, random_state = 1)"
   ]
  },
  {
   "cell_type": "code",
   "execution_count": 16,
   "metadata": {},
   "outputs": [
    {
     "data": {
      "text/html": [
       "<style>#sk-container-id-2 {color: black;background-color: white;}#sk-container-id-2 pre{padding: 0;}#sk-container-id-2 div.sk-toggleable {background-color: white;}#sk-container-id-2 label.sk-toggleable__label {cursor: pointer;display: block;width: 100%;margin-bottom: 0;padding: 0.3em;box-sizing: border-box;text-align: center;}#sk-container-id-2 label.sk-toggleable__label-arrow:before {content: \"▸\";float: left;margin-right: 0.25em;color: #696969;}#sk-container-id-2 label.sk-toggleable__label-arrow:hover:before {color: black;}#sk-container-id-2 div.sk-estimator:hover label.sk-toggleable__label-arrow:before {color: black;}#sk-container-id-2 div.sk-toggleable__content {max-height: 0;max-width: 0;overflow: hidden;text-align: left;background-color: #f0f8ff;}#sk-container-id-2 div.sk-toggleable__content pre {margin: 0.2em;color: black;border-radius: 0.25em;background-color: #f0f8ff;}#sk-container-id-2 input.sk-toggleable__control:checked~div.sk-toggleable__content {max-height: 200px;max-width: 100%;overflow: auto;}#sk-container-id-2 input.sk-toggleable__control:checked~label.sk-toggleable__label-arrow:before {content: \"▾\";}#sk-container-id-2 div.sk-estimator input.sk-toggleable__control:checked~label.sk-toggleable__label {background-color: #d4ebff;}#sk-container-id-2 div.sk-label input.sk-toggleable__control:checked~label.sk-toggleable__label {background-color: #d4ebff;}#sk-container-id-2 input.sk-hidden--visually {border: 0;clip: rect(1px 1px 1px 1px);clip: rect(1px, 1px, 1px, 1px);height: 1px;margin: -1px;overflow: hidden;padding: 0;position: absolute;width: 1px;}#sk-container-id-2 div.sk-estimator {font-family: monospace;background-color: #f0f8ff;border: 1px dotted black;border-radius: 0.25em;box-sizing: border-box;margin-bottom: 0.5em;}#sk-container-id-2 div.sk-estimator:hover {background-color: #d4ebff;}#sk-container-id-2 div.sk-parallel-item::after {content: \"\";width: 100%;border-bottom: 1px solid gray;flex-grow: 1;}#sk-container-id-2 div.sk-label:hover label.sk-toggleable__label {background-color: #d4ebff;}#sk-container-id-2 div.sk-serial::before {content: \"\";position: absolute;border-left: 1px solid gray;box-sizing: border-box;top: 0;bottom: 0;left: 50%;z-index: 0;}#sk-container-id-2 div.sk-serial {display: flex;flex-direction: column;align-items: center;background-color: white;padding-right: 0.2em;padding-left: 0.2em;position: relative;}#sk-container-id-2 div.sk-item {position: relative;z-index: 1;}#sk-container-id-2 div.sk-parallel {display: flex;align-items: stretch;justify-content: center;background-color: white;position: relative;}#sk-container-id-2 div.sk-item::before, #sk-container-id-2 div.sk-parallel-item::before {content: \"\";position: absolute;border-left: 1px solid gray;box-sizing: border-box;top: 0;bottom: 0;left: 50%;z-index: -1;}#sk-container-id-2 div.sk-parallel-item {display: flex;flex-direction: column;z-index: 1;position: relative;background-color: white;}#sk-container-id-2 div.sk-parallel-item:first-child::after {align-self: flex-end;width: 50%;}#sk-container-id-2 div.sk-parallel-item:last-child::after {align-self: flex-start;width: 50%;}#sk-container-id-2 div.sk-parallel-item:only-child::after {width: 0;}#sk-container-id-2 div.sk-dashed-wrapped {border: 1px dashed gray;margin: 0 0.4em 0.5em 0.4em;box-sizing: border-box;padding-bottom: 0.4em;background-color: white;}#sk-container-id-2 div.sk-label label {font-family: monospace;font-weight: bold;display: inline-block;line-height: 1.2em;}#sk-container-id-2 div.sk-label-container {text-align: center;}#sk-container-id-2 div.sk-container {/* jupyter's `normalize.less` sets `[hidden] { display: none; }` but bootstrap.min.css set `[hidden] { display: none !important; }` so we also need the `!important` here to be able to override the default hidden behavior on the sphinx rendered scikit-learn.org. See: https://github.com/scikit-learn/scikit-learn/issues/21755 */display: inline-block !important;position: relative;}#sk-container-id-2 div.sk-text-repr-fallback {display: none;}</style><div id=\"sk-container-id-2\" class=\"sk-top-container\"><div class=\"sk-text-repr-fallback\"><pre>RandomForestRegressor()</pre><b>In a Jupyter environment, please rerun this cell to show the HTML representation or trust the notebook. <br />On GitHub, the HTML representation is unable to render, please try loading this page with nbviewer.org.</b></div><div class=\"sk-container\" hidden><div class=\"sk-item\"><div class=\"sk-estimator sk-toggleable\"><input class=\"sk-toggleable__control sk-hidden--visually\" id=\"sk-estimator-id-2\" type=\"checkbox\" checked><label for=\"sk-estimator-id-2\" class=\"sk-toggleable__label sk-toggleable__label-arrow\">RandomForestRegressor</label><div class=\"sk-toggleable__content\"><pre>RandomForestRegressor()</pre></div></div></div></div></div>"
      ],
      "text/plain": [
       "RandomForestRegressor()"
      ]
     },
     "execution_count": 16,
     "metadata": {},
     "output_type": "execute_result"
    }
   ],
   "source": [
    "rf = RandomForestRegressor(n_estimators=100)\n",
    "rf.fit(X_train, y_train)"
   ]
  },
  {
   "cell_type": "code",
   "execution_count": 17,
   "metadata": {},
   "outputs": [
    {
     "data": {
      "text/plain": [
       "array([0.26318069, 0.32772417, 0.3000314 , 0.01131615, 0.01080381,\n",
       "       0.01740713, 0.02045449, 0.01651414, 0.01950062, 0.01306739])"
      ]
     },
     "execution_count": 17,
     "metadata": {},
     "output_type": "execute_result"
    }
   ],
   "source": [
    "rf.feature_importances_"
   ]
  },
  {
   "cell_type": "code",
   "execution_count": 33,
   "metadata": {},
   "outputs": [],
   "source": [
    "label.columns\n",
    "\n",
    "feature_names = ['gender', 'age', 'hypertension', 'heart_disease', 'ever_married',\n",
    "       'work_type', 'Residence_type', 'avg_glucose_level', 'bmi',\n",
    "       'smoking_status']"
   ]
  },
  {
   "cell_type": "code",
   "execution_count": 34,
   "metadata": {},
   "outputs": [
    {
     "data": {
      "text/plain": [
       "<BarContainer object of 10 artists>"
      ]
     },
     "execution_count": 34,
     "metadata": {},
     "output_type": "execute_result"
    },
    {
     "data": {
      "image/png": "[encoded data removed]",
      "text/plain": [
       "<Figure size 1200x800 with 1 Axes>"
      ]
     },
     "metadata": {},
     "output_type": "display_data"
    }
   ],
   "source": [
    "\n",
    "plt.barh(feature_names, rf.feature_importances_)"
   ]
  }
 ],
 "metadata": {
  "kernelspec": {
   "display_name": "dev",
   "language": "python",
   "name": "python3"
  },
  "language_info": {
   "codemirror_mode": {
    "name": "ipython",
    "version": 3
   },
   "file_extension": ".py",
   "mimetype": "text/x-python",
   "name": "python",
   "nbconvert_exporter": "python",
   "pygments_lexer": "ipython3",
   "version": "3.10.11"
  },
  "orig_nbformat": 4
 },
 "nbformat": 4,
 "nbformat_minor": 2
}
